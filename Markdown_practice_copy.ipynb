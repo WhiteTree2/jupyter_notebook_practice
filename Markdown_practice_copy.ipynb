{
 "cells": [
  {
   "cell_type": "markdown",
   "metadata": {},
   "source": [
    "# Mark Down practice!\n",
    "- 190924 v.1\n",
    "- Kyoungmin Han 작성 및 검수.\n",
    "- 참고 자료는 제일 하단에 있습니다.\n",
    "- 모든 code는 __1. 작성된 실제 code__ 와 __2. 결과물 출력__ 으로 병기되었으므로, 입력-> 출력의 형식으로 이해하시면 될 것 입니다.\n"
   ]
  },
  {
   "cell_type": "markdown",
   "metadata": {},
   "source": [
    "## Index"
   ]
  },
  {
   "cell_type": "markdown",
   "metadata": {},
   "source": [
    "#### Index\n",
    "- __index__  \n",
    "    [0. index](#Index)  \n",
    "- __basics__  \n",
    "    [1. Hard return](#Hard-return-(강제-줄-바꿈))  \n",
    "    [2. Title examples](#Title-examples)  \n",
    "    [3. Quation](#Quation)  \n",
    "- __code blocks__  \n",
    "    [4. Code block](#Code-block)  \n",
    "    [5. Code block with specific languages](#Code-block-with-specific-languages)  \n",
    "    [6. Inline code blocks](#Inline-code-blocks)  \n",
    "- __write formats & others__  \n",
    "    [7. Tilting-and-Bold](#Tilting-and-Bold)  \n",
    "    [8. Horizon line수평선](#Horizon-line수평선)  \n",
    "    [9. Outer 링크](#Outer-링크)  \n",
    "    [10. Inner 링크](#Inner-링크)  \n",
    "- __Lists and Tables__  \n",
    "    [11. Lists 리스트](#Lists-리스트)  \n",
    "    [12. Unorderd Lists (bullet)](#Unorderd-Lists-(bullet))  \n",
    "    [13. Tables and Table sort](#Tables)\n",
    "- __Image load__  \n",
    "    [14. image add : inline](#inline-image)  \n",
    "    [15. image add : url](#url-image)  \n",
    "    [16. image add : 참조](#참조-image)  \n",
    "- __Cites__  \n",
    "    [ref. : 참고문헌](#Cites)    "
   ]
  },
  {
   "cell_type": "markdown",
   "metadata": {},
   "source": [
    "```markdown\n",
    "#### Index\n",
    "- __index__  \n",
    "    [0. index](#Index)  \n",
    "- __basics__  \n",
    "    [1. Hard return](#Hard-return-(강제-줄-바꿈))  \n",
    "    [2. Title examples](#Title-examples)  \n",
    "    [3. Quation](#Quation)  \n",
    "- __code blocks__  \n",
    "    [4. Code block](#Code-block)  \n",
    "    [5. Code block with specific languages](#Code-block-with-specific-languages)  \n",
    "    [6. Inline code blocks](#Inline-code-blocks)  \n",
    "- __write formats & others__  \n",
    "    [7. Tilting-and-Bold](#Tilting-and-Bold)  \n",
    "    [8. Horizon line수평선](#Horizon-line수평선)  \n",
    "    [9. Outer 링크](#Outer-링크)  \n",
    "    [10. Inner 링크](#Inner-링크)  \n",
    "- __Lists and Tables__  \n",
    "    [11. Lists 리스트](#Lists-리스트)  \n",
    "    [12. Unorderd Lists (bullet)](#Unorderd-Lists-(bullet))  \n",
    "    [13. Tables and Table sort](#Tables)\n",
    "- __Image load__  \n",
    "    [14. image add : inline](#inline-image)  \n",
    "    [15. image add : url](#url-image)  \n",
    "    [16. image add : 참조](#참조-image)  \n",
    "- __Cites__  \n",
    "    [ref. : 참고문헌](#Cites)    \n",
    "```"
   ]
  },
  {
   "cell_type": "markdown",
   "metadata": {},
   "source": [
    "## Hard return (강제 줄 바꿈)"
   ]
  },
  {
   "cell_type": "markdown",
   "metadata": {},
   "source": [
    "you can hard return in markdown with `\"  \"(double spacing)`  \n",
    "~~~markdown\n",
    "for example, hard return  \n",
    "is done like this.\n",
    "~~~\n",
    "for example, hard return  \n",
    "is done like this."
   ]
  },
  {
   "cell_type": "markdown",
   "metadata": {},
   "source": [
    "## Title examples"
   ]
  },
  {
   "cell_type": "markdown",
   "metadata": {},
   "source": [
    "```markdown  \n",
    "# h1\n",
    "## h2\n",
    "### h3  \n",
    "\n",
    "...  \n",
    "and also, we can do same work as below  \n",
    "h1\n",
    "===\n",
    "h2\n",
    "---\n",
    "\n",
    "```  "
   ]
  },
  {
   "cell_type": "markdown",
   "metadata": {},
   "source": [
    "# h1\n",
    "## h2\n",
    "### h3\n",
    "\n",
    "...  \n",
    "and also, we can do same work as below  \n",
    "h1\n",
    "===\n",
    "h2\n",
    "---"
   ]
  },
  {
   "cell_type": "markdown",
   "metadata": {},
   "source": [
    "## Quation"
   ]
  },
  {
   "cell_type": "markdown",
   "metadata": {},
   "source": [
    "```markdown\n",
    "> quation\n",
    ">> quation2\n",
    ">>> quation3\n",
    "```"
   ]
  },
  {
   "cell_type": "markdown",
   "metadata": {},
   "source": [
    "> quation\n",
    ">> quation2\n",
    ">>> quation3"
   ]
  },
  {
   "cell_type": "markdown",
   "metadata": {},
   "source": [
    "## Code block"
   ]
  },
  {
   "cell_type": "markdown",
   "metadata": {},
   "source": [
    "```markdown\n",
    "~~~\n",
    "codeblock1\n",
    "codeblock1\n",
    "codeblock1\n",
    "~~~\n",
    "```\n",
    "~~~markdown\n",
    "\n",
    "```\n",
    "codeblock2\n",
    "codeblock2\n",
    "codeblock2\n",
    "```\n",
    "~~~"
   ]
  },
  {
   "cell_type": "markdown",
   "metadata": {},
   "source": [
    "~~~\n",
    "codeblock1\n",
    "codeblock1\n",
    "codeblock1\n",
    "~~~\n",
    "\n",
    "\n",
    "```\n",
    "codeblock2\n",
    "codeblock2\n",
    "codeblock2\n",
    "```"
   ]
  },
  {
   "cell_type": "markdown",
   "metadata": {},
   "source": [
    "## Code block with specific languages"
   ]
  },
  {
   "cell_type": "markdown",
   "metadata": {},
   "source": [
    "~~~Markdown\n",
    "```c\n",
    "void f()\n",
    "{\n",
    "    printf(%s,“이것은 c 코드 입니다”);\n",
    "}\n",
    "```\n",
    "\n",
    "```matlab\n",
    "function res = print_function()\n",
    "    disp('print')\n",
    "end\n",
    "a = rand(5,3)\n",
    "a = repmat(a,1,2)\n",
    "```\n",
    "\n",
    "```python\n",
    "def funtion_temp(in):\n",
    "    print(in)\n",
    "```\n",
    "\n",
    "```Markdown\n",
    "# mark down codes\n",
    "## mark down codes\n",
    "```\n",
    "~~~"
   ]
  },
  {
   "cell_type": "markdown",
   "metadata": {},
   "source": [
    "```c\n",
    "void f()\n",
    "{\n",
    "    printf(%s,“이것은 c 코드 입니다”);\n",
    "}\n",
    "```\n",
    "\n",
    "---\n",
    "\n",
    "```matlab\n",
    "function res = print_function()\n",
    "    disp('print')\n",
    "end\n",
    "a = rand(5,3)\n",
    "a = repmat(a,1,2)\n",
    "```\n",
    "\n",
    "---\n",
    "\n",
    "```python\n",
    "def funtion_temp(in):\n",
    "    print(in)\n",
    "```\n",
    "\n",
    "---\n",
    "\n",
    "```Markdown\n",
    "# mark down codes\n",
    "## mark down codes\n",
    "```\n",
    "---"
   ]
  },
  {
   "cell_type": "markdown",
   "metadata": {},
   "source": [
    "## Inline code blocks"
   ]
  },
  {
   "cell_type": "markdown",
   "metadata": {},
   "source": [
    "you can write inline code like this `inline code block = True` hohoho~"
   ]
  },
  {
   "cell_type": "markdown",
   "metadata": {},
   "source": [
    "## Tilting and Bold"
   ]
  },
  {
   "cell_type": "markdown",
   "metadata": {},
   "source": [
    "```markdown\n",
    "*기울여쓰기*\n",
    "_기울여쓰기_\n",
    "**bold**\n",
    "__bold__\n",
    "***기울여bold***\n",
    "___기울여bold___\n",
    "```"
   ]
  },
  {
   "cell_type": "markdown",
   "metadata": {},
   "source": [
    "\n",
    "*기울여쓰기*  \n",
    "_기울여쓰기_  \n",
    "**bold**  \n",
    "__bold__  \n",
    "***기울여+bold***  \n",
    "___기울여+bold___  "
   ]
  },
  {
   "cell_type": "markdown",
   "metadata": {},
   "source": [
    "## Horizon line수평선\n",
    "```markdown\n",
    "    ---\n",
    "    ***\n",
    "    ___\n",
    "```\n",
    "---  \n",
    "***  \n",
    "___  "
   ]
  },
  {
   "cell_type": "markdown",
   "metadata": {},
   "source": [
    "## Outer 링크\n",
    "```markdown\n",
    "[Google](http://www.google.co.kr “구글”)\n",
    "[Google][1]\n",
    "[Naver][2]\n",
    "[1]: http://google.com/ “구글”\n",
    "[2]: http://naver.com/ “네이버”\n",
    "<http://google.com/>\n",
    "<example@gmail.com/>\n",
    "```  \n",
    "#### Inline Link  \n",
    "[Google](http://www.google.co.kr“구글”)  \n",
    "#### Cite Link  (debug 필요)\n",
    "[Google] [1]  \n",
    "[GitHub][2]  \n",
    "[1]: http://www.google.com   \n",
    "[2]: https://github.com\n",
    "#### URL Link  \n",
    "<http://google.com/>  \n",
    "<example@gmail.com/>  "
   ]
  },
  {
   "cell_type": "markdown",
   "metadata": {},
   "source": [
    "## Inner 링크\n",
    "```markdown\n",
    "## test link\n",
    "some lines  \n",
    "some lines  \n",
    "some lines  \n",
    "some lines  \n",
    "[목차](#test-link)\n",
    "```\n",
    "\n",
    "## test link\n",
    "some lines  \n",
    "some lines  \n",
    "some lines  \n",
    "some lines  \n",
    "[목차](#test-link)"
   ]
  },
  {
   "cell_type": "markdown",
   "metadata": {},
   "source": [
    "## Lists 리스트"
   ]
  },
  {
   "cell_type": "markdown",
   "metadata": {},
   "source": [
    "```markdown\n",
    "1. list_test  \n",
    "1. list_test  \n",
    "1. list_test  \n",
    "1. list_test  \n",
    "1. list_test  \n",
    "```"
   ]
  },
  {
   "cell_type": "markdown",
   "metadata": {},
   "source": [
    "1. list_test  \n",
    "1. list_test  \n",
    "1. list_test  \n",
    "1. list_test  \n",
    "1. list_test  "
   ]
  },
  {
   "cell_type": "markdown",
   "metadata": {},
   "source": [
    "```markdown\n",
    "1. list_test  \n",
    "2. list_test  \n",
    "4. list_test  \n",
    "5. list_test  \n",
    "0. list_test  \n",
    "```"
   ]
  },
  {
   "cell_type": "markdown",
   "metadata": {},
   "source": [
    "1. list_test  \n",
    "2. list_test  \n",
    "4. list_test  \n",
    "5. list_test  \n",
    "0. list_test  "
   ]
  },
  {
   "cell_type": "markdown",
   "metadata": {},
   "source": [
    "## Unorderd Lists (bullet)"
   ]
  },
  {
   "cell_type": "markdown",
   "metadata": {},
   "source": [
    "`+`, `-`, `*` 으로 bullet list를 작성 할 수 있습니다."
   ]
  },
  {
   "cell_type": "markdown",
   "metadata": {},
   "source": [
    "```markdown\n",
    "* list test\n",
    "    * list test\n",
    "    * list test\n",
    "        * list test\n",
    "        * list test\n",
    "        * list test\n",
    "```"
   ]
  },
  {
   "cell_type": "markdown",
   "metadata": {},
   "source": [
    "* list test\n",
    "    * list test\n",
    "    * list test\n",
    "        * list test\n",
    "        * list test\n",
    "        * list test"
   ]
  },
  {
   "cell_type": "markdown",
   "metadata": {},
   "source": [
    "## Tables"
   ]
  },
  {
   "cell_type": "markdown",
   "metadata": {},
   "source": [
    "```markdown\n",
    "Header 1 | Header 2\n",
    "--------- | ---------\n",
    "Content 11111111111111111111111111111111111111111111111111111111111111111111111111111111111111 | Content 3333333333333333333333333333333333333333333333333333333333333333333333333333\n",
    "Content 22222222222222222222222222222222222 | Content 44444444444444444444444444444444444444444444444444\n",
    "```"
   ]
  },
  {
   "cell_type": "markdown",
   "metadata": {},
   "source": [
    "Header 1 | Header 2\n",
    "--------- | ---------\n",
    "Content 11111111111111111111111111111111111111111111111111111111111111111111111111111111111111 | Content 3333333333333333333333333333333333333333333333333333333333333333333333333333\n",
    "Content 22222222222222222222222222222222222 | Content 44444444444444444444444444444444444444444444444444"
   ]
  },
  {
   "cell_type": "markdown",
   "metadata": {},
   "source": [
    "```markdown\n",
    "테이블 정렬\n",
    "| Header 1 | Header 2 | Header 3 |\n",
    "| :-------- | :--------: | --------: |\n",
    "| Leftttttttttttttttttttttttttt | Centerrrr | Rightttttttttttttttttttttttttttttttttttttttttttttt |\n",
    "```"
   ]
  },
  {
   "cell_type": "markdown",
   "metadata": {},
   "source": [
    "테이블 정렬(debug)  \n",
    " Header 1 | Header 2 | Header 3 \n",
    " :-------- | :--------: | --------: \n",
    " Left | Center | Right   "
   ]
  },
  {
   "cell_type": "markdown",
   "metadata": {},
   "source": [
    "## Image add"
   ]
  },
  {
   "cell_type": "markdown",
   "metadata": {},
   "source": [
    "#### inline image\n",
    "```\n",
    "![test image legend](\\test.png)\n",
    "```"
   ]
  },
  {
   "cell_type": "markdown",
   "metadata": {},
   "source": [
    "![test image legend](\\test.png)"
   ]
  },
  {
   "cell_type": "markdown",
   "metadata": {},
   "source": [
    "#### url image\n",
    "```\n",
    "![test url image legend](image_URL)\n",
    "```\n",
    "in our case : (*https://github.githubassets.com/images/modules/open_graph/github-octocat.png)"
   ]
  },
  {
   "cell_type": "markdown",
   "metadata": {},
   "source": [
    "![test url image legend](https://github.githubassets.com/images/modules/open_graph/github-octocat.png)\n"
   ]
  },
  {
   "cell_type": "markdown",
   "metadata": {},
   "source": [
    "#### 참조 image\n",
    "```markdown\n",
    "당신은 다음과 같이 image를 ![alt text][1] 참조 load 할 수 있다.\n",
    "\n",
    "[1]: https://github.githubassets.com/images/modules/open_graph/github-octocat.png\n",
    "```"
   ]
  },
  {
   "cell_type": "markdown",
   "metadata": {},
   "source": [
    "당신은 다음과 같이 image를 ![alt text][1] 참조 load 할 수 있다.\n",
    "\n",
    "[1]: https://github.githubassets.com/images/modules/open_graph/github-octocat.png"
   ]
  },
  {
   "cell_type": "markdown",
   "metadata": {},
   "source": [
    "# Cites\n",
    "- 자료를 만들때 참고한 자료들로 작성자분들께 무한한 영광을 돌립니다.\n",
    "1. 전체적 내용 참조 <https://greeksharifa.github.io/references/2018/06/29/markdown-usage/>\n",
    "    1-1. 전체적 내용 참조 <https://simhyejin.github.io/2016/06/30/Markdown-syntax/>\n",
    "2. 링크 삽입 <https://opentutorials.org/module/782/6083>\n",
    "3. 목차 작성 <https://png93.github.io/markdown-link/>\n"
   ]
  },
  {
   "cell_type": "code",
   "execution_count": null,
   "metadata": {},
   "outputs": [],
   "source": []
  }
 ],
 "metadata": {
  "kernelspec": {
   "display_name": "Python 3",
   "language": "python",
   "name": "python3"
  },
  "language_info": {
   "codemirror_mode": {
    "name": "ipython",
    "version": 3
   },
   "file_extension": ".py",
   "mimetype": "text/x-python",
   "name": "python",
   "nbconvert_exporter": "python",
   "pygments_lexer": "ipython3",
   "version": "3.7.4"
  }
 },
 "nbformat": 4,
 "nbformat_minor": 2
}
