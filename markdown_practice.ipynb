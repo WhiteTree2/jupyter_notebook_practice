{
 "cells": [
  {
   "cell_type": "markdown",
   "metadata": {},
   "source": [
    "# Mark Down practice!"
   ]
  },
  {
   "cell_type": "markdown",
   "metadata": {},
   "source": [
    "## title examples\n",
    "# h1\n",
    "## h2\n",
    "### h3\n",
    "\n",
    "...\n",
    "- and also, we can do same work as below\n",
    "h1\n",
    "===\n",
    "h2\n",
    "---\n"
   ]
  },
  {
   "cell_type": "markdown",
   "metadata": {},
   "source": [
    "## quation\n",
    "> quation\n",
    ">> quation2\n",
    ">>> quation3"
   ]
  },
  {
   "cell_type": "markdown",
   "metadata": {},
   "source": [
    "# code block\n",
    "~~~\n",
    "codeblock1\n",
    "codeblock1\n",
    "codeblock1\n",
    "~~~\n",
    "\n",
    "\n",
    "```\n",
    "codeblock2\n",
    "codeblock2\n",
    "codeblock2\n",
    "```"
   ]
  },
  {
   "cell_type": "markdown",
   "metadata": {},
   "source": [
    "# code block with specific languages\n",
    "```Markdown\n",
    "    ```c\n",
    "    void f()\n",
    "    {\n",
    "        printf(%s,“이것은 c 코드 입니다”);\n",
    "    }\n",
    "    ```\n",
    "\n",
    "    ```matlab\n",
    "    function res = print_function()\n",
    "        disp('print')\n",
    "    end\n",
    "    a = rand(5,3)\n",
    "    a = repmat(a,1,2)\n",
    "    ```\n",
    "\n",
    "    ```python\n",
    "    def funtion_temp(in):\n",
    "        print(in)\n",
    "    ```\n",
    "\n",
    "    ```Markdown\n",
    "    # mark down codes\n",
    "    ## mark down codes\n",
    "    ```\n",
    "```\n",
    "\n",
    "```c\n",
    "void f()\n",
    "{\n",
    "    printf(%s,“이것은 c 코드 입니다”);\n",
    "}\n",
    "```\n",
    "\n",
    "---\n",
    "\n",
    "```matlab\n",
    "function res = print_function()\n",
    "    disp('print')\n",
    "end\n",
    "a = rand(5,3)\n",
    "a = repmat(a,1,2)\n",
    "```\n",
    "\n",
    "---\n",
    "\n",
    "```python\n",
    "def funtion_temp(in):\n",
    "    print(in)\n",
    "```\n",
    "\n",
    "---\n",
    "\n",
    "```Markdown\n",
    "# mark down codes\n",
    "## mark down codes\n",
    "```\n",
    "---"
   ]
  },
  {
   "cell_type": "markdown",
   "metadata": {},
   "source": [
    "# inline code blocks\n",
    "\n",
    "you can write inline code like this `inline code block = True` hohoho~"
   ]
  },
  {
   "cell_type": "markdown",
   "metadata": {},
   "source": [
    "## 기울여쓰기와 bold\n",
    "```markdown\n",
    "*기울여쓰기*\n",
    "_기울여쓰기_\n",
    "**bold**\n",
    "__bold__\n",
    "***기울여bold***\n",
    "___기울여bold___\n",
    "```\n",
    "\n",
    "*기울여쓰기*\n",
    "_기울여쓰기_\n",
    "**bold**\n",
    "__bold__\n",
    "***기울여+bold***\n",
    "___기울여+bold___"
   ]
  },
  {
   "cell_type": "markdown",
   "metadata": {},
   "source": [
    "## 수평선\n",
    "```markdown\n",
    "    ---\n",
    "    ***\n",
    "    ___\n",
    "```\n",
    "---\n",
    "***\n",
    "___"
   ]
  },
  {
   "cell_type": "markdown",
   "metadata": {},
   "source": [
    "## outer 링크\n",
    "```markdown\n",
    "[Google](http://www.google.co.kr “구글”)\n",
    "[Google][1]\n",
    "[Naver][2]\n",
    "[1]: http://google.com/ “구글”\n",
    "[2]: http://naver.com/ “네이버”\n",
    "<http://google.com/>\n",
    "<example@gmail.com/>\n",
    "```\n",
    "[Google](http://www.google.co.kr “구글”)\n",
    "[Google][1]\n",
    "[Naver][2]\n",
    "[1]: http://google.com/ “구글”\n",
    "[2]: http://naver.com/ “네이버”\n",
    "<http://google.com/>\n",
    "<example@gmail.com/>"
   ]
  },
  {
   "cell_type": "markdown",
   "metadata": {},
   "source": [
    "## inner 링크\n",
    "```markdown\n",
    "[목차](##outer 링크)\n",
    "```\n",
    "[목차](#outer 링크)\n"
   ]
  },
  {
   "cell_type": "code",
   "execution_count": null,
   "metadata": {},
   "outputs": [],
   "source": []
  }
 ],
 "metadata": {
  "kernelspec": {
   "display_name": "Python 3",
   "language": "python",
   "name": "python3"
  },
  "language_info": {
   "codemirror_mode": {
    "name": "ipython",
    "version": 3
   },
   "file_extension": ".py",
   "mimetype": "text/x-python",
   "name": "python",
   "nbconvert_exporter": "python",
   "pygments_lexer": "ipython3",
   "version": "3.6.7"
  }
 },
 "nbformat": 4,
 "nbformat_minor": 2
}
